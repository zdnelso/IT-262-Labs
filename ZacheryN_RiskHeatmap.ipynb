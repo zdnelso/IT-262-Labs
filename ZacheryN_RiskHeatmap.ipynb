{
  "nbformat": 4,
  "nbformat_minor": 0,
  "metadata": {
    "colab": {
      "name": "ZacheryN_RiskHeatmap",
      "provenance": [],
      "collapsed_sections": [],
      "authorship_tag": "ABX9TyOvAaotllu5gCGouBz1YeWk",
      "include_colab_link": true
    },
    "kernelspec": {
      "name": "python3",
      "display_name": "Python 3"
    },
    "language_info": {
      "name": "python"
    }
  },
  "cells": [
    {
      "cell_type": "markdown",
      "metadata": {
        "id": "view-in-github",
        "colab_type": "text"
      },
      "source": [
        "<a href=\"https://colab.research.google.com/github/zdnelso/IT-262-Labs/blob/main/ZacheryN_RiskHeatmap.ipynb\" target=\"_parent\"><img src=\"https://colab.research.google.com/assets/colab-badge.svg\" alt=\"Open In Colab\"/></a>"
      ]
    },
    {
      "cell_type": "code",
      "execution_count": null,
      "metadata": {
        "id": "Lfa8mJxZYF18"
      },
      "outputs": [],
      "source": [
        "import seaborn as sns\n",
        "import pandas as pd\n",
        "import numpy as np\n",
        "\n",
        "#Create a datatframe\n",
        "df= pd.DataFrame(columns=['risk','likelihood', 'impact', 'score'])"
      ]
    },
    {
      "cell_type": "code",
      "source": [
        "df['risk']=['users', 'team', 'budget', 'security']\n",
        "\n",
        "df['likelihood']=[0.25, 0.2, 0.1, 0.4]\n",
        "\n",
        "df['impact']=[4, 5, 3, 10]\n",
        "\n",
        "df['score']=df['impact']*df['likelihood']"
      ],
      "metadata": {
        "id": "kZ-6eLWsY-xT"
      },
      "execution_count": null,
      "outputs": []
    },
    {
      "cell_type": "code",
      "source": [
        "scoresPivot=df.pivot('impact', 'likelihood', 'score')\n",
        "print(scoresPivot)\n",
        "\n",
        "labelsPivot=df.pivot('impact', 'likelihood', 'risk')\n",
        "print(labelsPivot)\n",
        "\n",
        "#replace null labels with empty strings\n",
        "labelsPivot.fillna('', inplace=True)\n",
        "\n",
        "# simple heatmap\n",
        "p1=sns.heatmap(scoresPivot, cmap=\"afmhot_r\", annot=labelsPivot, fmt='')"
      ],
      "metadata": {
        "colab": {
          "base_uri": "https://localhost:8080/",
          "height": 491
        },
        "id": "2cdD7Y5iaRTk",
        "outputId": "0d449b23-3b0c-4152-9633-3faed80b5651"
      },
      "execution_count": null,
      "outputs": [
        {
          "output_type": "stream",
          "name": "stdout",
          "text": [
            "likelihood  0.10  0.20  0.25  0.40\n",
            "impact                            \n",
            "3            0.3   NaN   NaN   NaN\n",
            "4            NaN   NaN   1.0   NaN\n",
            "5            NaN   1.0   NaN   NaN\n",
            "10           NaN   NaN   NaN   4.0\n",
            "likelihood    0.10  0.20   0.25      0.40\n",
            "impact                                   \n",
            "3           budget   NaN    NaN       NaN\n",
            "4              NaN   NaN  users       NaN\n",
            "5              NaN  team    NaN       NaN\n",
            "10             NaN   NaN    NaN  security\n"
          ]
        },
        {
          "output_type": "display_data",
          "data": {
            "image/png": "[encoded data removed]",
            "text/plain": [
              "<Figure size 432x288 with 2 Axes>"
            ]
          },
          "metadata": {
            "needs_background": "light"
          }
        }
      ]
    }
  ]
}